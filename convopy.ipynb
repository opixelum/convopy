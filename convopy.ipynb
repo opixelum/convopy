{
 "metadata": {
  "kernelspec": {
   "language": "python",
   "display_name": "Python 3",
   "name": "python3"
  },
  "language_info": {
   "name": "python",
   "version": "3.10.12",
   "mimetype": "text/x-python",
   "codemirror_mode": {
    "name": "ipython",
    "version": 3
   },
   "pygments_lexer": "ipython3",
   "nbconvert_exporter": "python",
   "file_extension": ".py"
  },
  "kaggle": {
   "accelerator": "gpu",
   "dataSources": [
    {
     "sourceId": 7345877,
     "sourceType": "datasetVersion",
     "datasetId": 4261490
    }
   ],
   "isInternetEnabled": false,
   "language": "python",
   "sourceType": "notebook",
   "isGpuEnabled": true
  }
 },
 "nbformat_minor": 4,
 "nbformat": 4,
 "cells": [
  {
   "cell_type": "markdown",
   "source": "## 1. Check if dataset is valid",
   "metadata": {}
  },
  {
   "cell_type": "code",
   "source": "import cv2\nimport imghdr\nimport os",
   "metadata": {
    "trusted": true
   },
   "execution_count": null,
   "outputs": []
  },
  {
   "cell_type": "code",
   "source": [
    "def check_images(data_dir_path):\n",
    "    print(\"Checking images in\", data_dir_path + \"...\")\n",
    "    error = False\n",
    "    image_exts = [\"bmp\", \"jpeg\", \"jpg\", \"png\"]\n",
    "    \n",
    "    for image in os.listdir(data_dir_path):\n",
    "        image_path = os.path.join(data_dir_path, image)\n",
    "        try: \n",
    "            img = cv2.imread(image_path)\n",
    "            tip = imghdr.what(image_path)\n",
    "            if tip not in image_exts:\n",
    "                error = True\n",
    "                print('Image not in ext list {}'.format(image_path))\n",
    "                # os.remove(image_path)\n",
    "        except Exception as e:\n",
    "            error = True\n",
    "            print('Issue with image {}'.format(image_path))\n",
    "            # os.remove(image_path)\n",
    "            \n",
    "    if not error:\n",
    "        print(data_dir_path, \"is safe to use.\")"
   ],
   "metadata": {
    "trusted": true
   },
   "execution_count": null,
   "outputs": []
  },
  {
   "cell_type": "code",
   "source": [
    "train_dir_path = \"/kaggle/input/animals/animals/train\"\n",
    "val_dir_path = \"/kaggle/input/animals/animals/val\"\n",
    "inf_dir_path = \"/kaggle/input/animals/animals/inf\""
   ],
   "metadata": {
    "trusted": true
   },
   "execution_count": null,
   "outputs": []
  },
  {
   "cell_type": "code",
   "source": "for image_class in os.listdir(train_dir_path): \n    check_images(os.path.join(train_dir_path, image_class))",
   "metadata": {
    "trusted": true
   },
   "execution_count": null,
   "outputs": []
  },
  {
   "cell_type": "code",
   "source": "for image_class in os.listdir(val_dir_path):\n    check_images(os.path.join(val_dir_path, image_class))",
   "metadata": {
    "trusted": true
   },
   "execution_count": null,
   "outputs": []
  },
  {
   "cell_type": "code",
   "source": "check_images(inf_dir_path)",
   "metadata": {
    "trusted": true
   },
   "execution_count": null,
   "outputs": []
  },
  {
   "cell_type": "markdown",
   "source": [
    "## 2. Load dataset"
   ],
   "metadata": {}
  },
  {
   "cell_type": "code",
   "source": [
    "import tensorflow as tf\n",
    "import pathlib"
   ],
   "metadata": {
    "trusted": true
   },
   "execution_count": null,
   "outputs": []
  },
  {
   "cell_type": "code",
   "source": [
    "batch_size = 3\n",
    "image_height = 200\n",
    "image_width = 200"
   ],
   "metadata": {
    "trusted": true
   },
   "execution_count": null,
   "outputs": []
  },
  {
   "cell_type": "code",
   "source": "train_dir = pathlib.Path(train_dir_path)\nval_dir = pathlib.Path(val_dir_path)",
   "metadata": {
    "trusted": true
   },
   "execution_count": null,
   "outputs": []
  },
  {
   "cell_type": "code",
   "source": [
    "training_data = tf.keras.preprocessing.image_dataset_from_directory(\n",
    "    train_dir,\n",
    "    validation_split=0.2,\n",
    "    subset=\"training\",\n",
    "    seed=42,\n",
    "    image_size=(image_height, image_width),\n",
    "    batch_size=batch_size\n",
    ")"
   ],
   "metadata": {
    "trusted": true
   },
   "execution_count": null,
   "outputs": []
  },
  {
   "cell_type": "code",
   "source": [
    "validation_data = tf.keras.preprocessing.image_dataset_from_directory(\n",
    "    val_dir,\n",
    "    validation_split=0.2,\n",
    "    subset=\"validation\",\n",
    "    seed=42,\n",
    "    image_size=(image_height, image_width),\n",
    "    batch_size=batch_size\n",
    ")"
   ],
   "metadata": {
    "trusted": true
   },
   "execution_count": null,
   "outputs": []
  },
  {
   "cell_type": "markdown",
   "source": [
    "## 3. Define the convolutional neural network"
   ],
   "metadata": {}
  },
  {
   "cell_type": "code",
   "source": "from tensorflow.keras import layers",
   "metadata": {
    "trusted": true
   },
   "execution_count": null,
   "outputs": []
  },
  {
   "cell_type": "code",
   "source": [
    "num_classes = 5"
   ],
   "metadata": {
    "trusted": true
   },
   "execution_count": null,
   "outputs": []
  },
  {
   "cell_type": "code",
   "source": [
    "model = tf.keras.Sequential([\n",
    "    layers.experimental.preprocessing.Rescaling(1./255),\n",
    "    layers.Conv2D(128, 4, activation='relu'),\n",
    "    layers.MaxPooling2D(),\n",
    "    layers.Conv2D(64, 4, activation='relu'),\n",
    "    layers.MaxPooling2D(),\n",
    "    layers.Conv2D(32, 4, activation='relu'),\n",
    "    layers.MaxPooling2D(),\n",
    "    layers.Conv2D(16, 4, activation='relu'),\n",
    "    layers.MaxPooling2D(),\n",
    "    layers.Flatten(),\n",
    "    layers.Dense(64, activation='relu'),\n",
    "    layers.Dense(num_classes, activation='softmax')\n",
    "])"
   ],
   "metadata": {
    "trusted": true
   },
   "execution_count": null,
   "outputs": []
  },
  {
   "cell_type": "markdown",
   "source": [
    "## 4. Prepare the model for training"
   ],
   "metadata": {}
  },
  {
   "cell_type": "code",
   "source": "model.compile(\n    optimizer='adam',\n    loss=tf.losses.SparseCategoricalCrossentropy(from_logits=False),\n    metrics=['accuracy']\n)",
   "metadata": {
    "trusted": true
   },
   "execution_count": null,
   "outputs": []
  },
  {
   "cell_type": "code",
   "source": "logdir=\"logs\"",
   "metadata": {
    "trusted": true
   },
   "execution_count": null,
   "outputs": []
  },
  {
   "cell_type": "code",
   "source": [
    "tensorboard_callback = tf.keras.callbacks.TensorBoard(\n",
    "    log_dir=logdir,\n",
    "    histogram_freq=1,\n",
    "    write_images=logdir,\n",
    "    embeddings_data=training_data\n",
    ")"
   ],
   "metadata": {
    "trusted": true
   },
   "execution_count": null,
   "outputs": []
  },
  {
   "cell_type": "code",
   "source": [
    "training_data = training_data.shuffle(buffer_size=1000, seed=42, reshuffle_each_iteration=True)"
   ],
   "metadata": {
    "trusted": true
   },
   "execution_count": null,
   "outputs": []
  },
  {
   "cell_type": "markdown",
   "source": [
    "## 5. Train"
   ],
   "metadata": {}
  },
  {
   "cell_type": "code",
   "source": [
    "model.fit(\n",
    "    training_data,\n",
    "    validation_data=validation_data,\n",
    "    epochs=20,\n",
    "    callbacks=[tensorboard_callback]\n",
    ")"
   ],
   "metadata": {
    "trusted": true
   },
   "execution_count": null,
   "outputs": []
  },
  {
   "cell_type": "markdown",
   "source": [
    "## 6. Inference"
   ],
   "metadata": {}
  },
  {
   "cell_type": "code",
   "source": "import matplotlib.pyplot as plt\nimport numpy as np",
   "metadata": {
    "trusted": true
   },
   "execution_count": null,
   "outputs": []
  },
  {
   "cell_type": "code",
   "source": "image_files = os.listdir(inf_dir_path)",
   "metadata": {
    "trusted": true
   },
   "execution_count": null,
   "outputs": []
  },
  {
   "cell_type": "code",
   "source": [
    "for file_name in image_files:\n",
    "    file_path = os.path.join(inf_dir_path, file_name)\n",
    "    image_to_predict = cv2.imread(file_path, cv2.IMREAD_COLOR)\n",
    "    plt.imshow(cv2.cvtColor(image_to_predict, cv2.COLOR_BGR2RGB))\n",
    "    plt.show()\n",
    "\n",
    "    img_to_predict = np.expand_dims(cv2.resize(image_to_predict, (200, 200)), axis=0)\n",
    "\n",
    "    predict = model.predict(img_to_predict)\n",
    "    res = np.argmax(predict, axis=1)\n",
    "\n",
    "    if res == 0:\n",
    "        print(\"Cat\")\n",
    "    elif res == 1:\n",
    "        print(\"Dog\")\n",
    "    elif res == 2:\n",
    "        print(\"Elephant\")\n",
    "    elif res == 3:\n",
    "        print(\"Horse\")\n",
    "    elif res == 4:\n",
    "        print(\"Lion\")"
   ],
   "metadata": {
    "trusted": true
   },
   "execution_count": null,
   "outputs": []
  }
 ]
}
